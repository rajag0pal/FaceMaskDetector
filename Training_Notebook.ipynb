{
 "cells": [
  {
   "cell_type": "markdown",
   "metadata": {},
   "source": [
    "Resources Used\n",
    "- wget.download('https://tensorflow-object-detection-api-tutorial.readthedocs.io/en/latest/_downloads/da4babe668a8afb093cc7776d7e630f3/generate_tfrecord.py')\n",
    "- Setup https://tensorflow-object-detection-api-tutorial.readthedocs.io/en/latest/install.html"
   ]
  },
  {
   "cell_type": "markdown",
   "metadata": {},
   "source": [
    "# 0. Setup Paths"
   ]
  },
  {
   "cell_type": "code",
   "execution_count": 24,
   "metadata": {},
   "outputs": [],
   "source": [
    "WORKSPACE_PATH = 'Tensorflow/workspace'\n",
    "SCRIPTS_PATH = 'Tensorflow/scripts'\n",
    "APIMODEL_PATH = 'Tensorflow/models'\n",
    "ANNOTATION_PATH = WORKSPACE_PATH+'/annotations'\n",
    "IMAGE_PATH = WORKSPACE_PATH+'/images'\n",
    "MODEL_PATH = WORKSPACE_PATH+'/models'\n",
    "PRETRAINED_MODEL_PATH = WORKSPACE_PATH+'/pre-trained-models'\n",
    "CONFIG_PATH = MODEL_PATH+'/my_ssd_mobnet/pipeline.config'\n",
    "CHECKPOINT_PATH = MODEL_PATH+'/my_ssd_mobnet/'"
   ]
  },
  {
   "cell_type": "markdown",
   "metadata": {},
   "source": [
    "# 1. Create Label Map"
   ]
  },
  {
   "cell_type": "code",
   "execution_count": 25,
   "metadata": {},
   "outputs": [],
   "source": [
    "labels = [{'name':'Mask', 'id':1}, {'name':'NoMask', 'id':2}, {'name':'Improperly_Weared', 'id':3}]\n",
    "\n",
    "with open(ANNOTATION_PATH + '\\label_map.pbtxt', 'w') as f:\n",
    "    for label in labels:\n",
    "        f.write('item { \\n')\n",
    "        f.write('\\tname:\\'{}\\'\\n'.format(label['name']))\n",
    "        f.write('\\tid:{}\\n'.format(label['id']))\n",
    "        f.write('}\\n')"
   ]
  },
  {
   "cell_type": "markdown",
   "metadata": {},
   "source": [
    "# 2. Create TF records"
   ]
  },
  {
   "cell_type": "code",
   "execution_count": 26,
   "metadata": {},
   "outputs": [
    {
     "name": "stdout",
     "output_type": "stream",
     "text": [
      "^C\n"
     ]
    },
    {
     "name": "stderr",
     "output_type": "stream",
     "text": [
      "Traceback (most recent call last):\n",
      "  File \"Tensorflow/scripts/generate_tfrecord.py\", line 169, in <module>\n",
      "    tf.app.run()\n",
      "  File \"c:\\Users\\rajag\\miniconda3\\envs\\DeepLearning\\lib\\site-packages\\tensorflow\\python\\platform\\app.py\", line 36, in run\n",
      "    _run(main=main, argv=argv, flags_parser=_parse_flags_tolerate_undef)\n",
      "  File \"c:\\Users\\rajag\\miniconda3\\envs\\DeepLearning\\lib\\site-packages\\absl\\app.py\", line 308, in run\n",
      "    _run_main(main, args)\n",
      "  File \"c:\\Users\\rajag\\miniconda3\\envs\\DeepLearning\\lib\\site-packages\\absl\\app.py\", line 254, in _run_main\n",
      "    sys.exit(main(argv))\n",
      "  File \"Tensorflow/scripts/generate_tfrecord.py\", line 159, in main\n",
      "    tf_example = create_tf_example(group, path)\n",
      "  File \"Tensorflow/scripts/generate_tfrecord.py\", line 133, in create_tf_example\n",
      "    classes.append(class_text_to_int(row['class']))\n",
      "  File \"Tensorflow/scripts/generate_tfrecord.py\", line 102, in class_text_to_int\n",
      "    return label_map_dict[row_label]\n",
      "KeyError: 'without_mask'\n",
      "Traceback (most recent call last):\n",
      "  File \"Tensorflow/scripts/generate_tfrecord.py\", line 169, in <module>\n",
      "    tf.app.run()\n",
      "  File \"c:\\Users\\rajag\\miniconda3\\envs\\DeepLearning\\lib\\site-packages\\tensorflow\\python\\platform\\app.py\", line 36, in run\n",
      "    _run(main=main, argv=argv, flags_parser=_parse_flags_tolerate_undef)\n",
      "  File \"c:\\Users\\rajag\\miniconda3\\envs\\DeepLearning\\lib\\site-packages\\absl\\app.py\", line 308, in run\n",
      "    _run_main(main, args)\n",
      "  File \"c:\\Users\\rajag\\miniconda3\\envs\\DeepLearning\\lib\\site-packages\\absl\\app.py\", line 254, in _run_main\n",
      "    sys.exit(main(argv))\n",
      "  File \"Tensorflow/scripts/generate_tfrecord.py\", line 159, in main\n",
      "    tf_example = create_tf_example(group, path)\n",
      "  File \"Tensorflow/scripts/generate_tfrecord.py\", line 133, in create_tf_example\n",
      "    classes.append(class_text_to_int(row['class']))\n",
      "  File \"Tensorflow/scripts/generate_tfrecord.py\", line 102, in class_text_to_int\n",
      "    return label_map_dict[row_label]\n",
      "KeyError: 'with_mask'\n"
     ]
    }
   ],
   "source": [
    "!python {SCRIPTS_PATH + '/generate_tfrecord.py'} -x {IMAGE_PATH + '/train'} -l {ANNOTATION_PATH + '/label_map.pbtxt'} -o {ANNOTATION_PATH + '/train.record'}\n",
    "!python {SCRIPTS_PATH + '/generate_tfrecord.py'} -x{IMAGE_PATH + '/test'} -l {ANNOTATION_PATH + '/label_map.pbtxt'} -o {ANNOTATION_PATH + '/test.record'}"
   ]
  },
  {
   "cell_type": "markdown",
   "metadata": {},
   "source": [
    "# 3. Download TF Models Pretrained Models from Tensorflow Model Zoo"
   ]
  },
  {
   "cell_type": "code",
   "execution_count": 12,
   "metadata": {},
   "outputs": [
    {
     "name": "stderr",
     "output_type": "stream",
     "text": [
      "Cloning into 'models'...\n",
      "Updating files:  20% (726/3563)\n",
      "Updating files:  21% (749/3563)\n",
      "Updating files:  22% (784/3563)\n",
      "Updating files:  23% (820/3563)\n",
      "Updating files:  24% (856/3563)\n",
      "Updating files:  25% (891/3563)\n",
      "Updating files:  26% (927/3563)\n",
      "Updating files:  27% (963/3563)\n",
      "Updating files:  28% (998/3563)\n",
      "Updating files:  29% (1034/3563)\n",
      "Updating files:  30% (1069/3563)\n",
      "Updating files:  31% (1105/3563)\n",
      "Updating files:  32% (1141/3563)\n",
      "Updating files:  33% (1176/3563)\n",
      "Updating files:  34% (1212/3563)\n",
      "Updating files:  35% (1248/3563)\n",
      "Updating files:  36% (1283/3563)\n",
      "Updating files:  37% (1319/3563)\n",
      "Updating files:  38% (1354/3563)\n",
      "Updating files:  39% (1390/3563)\n",
      "Updating files:  40% (1426/3563)\n",
      "Updating files:  41% (1461/3563)\n",
      "Updating files:  41% (1468/3563)\n",
      "Updating files:  42% (1497/3563)\n",
      "Updating files:  43% (1533/3563)\n",
      "Updating files:  44% (1568/3563)\n",
      "Updating files:  45% (1604/3563)\n",
      "Updating files:  46% (1639/3563)\n",
      "Updating files:  47% (1675/3563)\n",
      "Updating files:  48% (1711/3563)\n",
      "Updating files:  49% (1746/3563)\n",
      "Updating files:  50% (1782/3563)\n",
      "Updating files:  51% (1818/3563)\n",
      "Updating files:  52% (1853/3563)\n",
      "Updating files:  53% (1889/3563)\n",
      "Updating files:  54% (1925/3563)\n",
      "Updating files:  55% (1960/3563)\n",
      "Updating files:  56% (1996/3563)\n",
      "Updating files:  57% (2031/3563)\n",
      "Updating files:  58% (2067/3563)\n",
      "Updating files:  59% (2103/3563)\n",
      "Updating files:  60% (2138/3563)\n",
      "Updating files:  61% (2174/3563)\n",
      "Updating files:  61% (2191/3563)\n",
      "Updating files:  62% (2210/3563)\n",
      "Updating files:  63% (2245/3563)\n",
      "Updating files:  64% (2281/3563)\n",
      "Updating files:  65% (2316/3563)\n",
      "Updating files:  66% (2352/3563)\n",
      "Updating files:  67% (2388/3563)\n",
      "Updating files:  68% (2423/3563)\n",
      "Updating files:  69% (2459/3563)\n",
      "Updating files:  70% (2495/3563)\n",
      "Updating files:  71% (2530/3563)\n",
      "Updating files:  72% (2566/3563)\n",
      "Updating files:  73% (2601/3563)\n",
      "Updating files:  74% (2637/3563)\n",
      "Updating files:  75% (2673/3563)\n",
      "Updating files:  76% (2708/3563)\n",
      "Updating files:  77% (2744/3563)\n",
      "Updating files:  78% (2780/3563)\n",
      "Updating files:  78% (2794/3563)\n",
      "Updating files:  79% (2815/3563)\n",
      "Updating files:  80% (2851/3563)\n",
      "Updating files:  81% (2887/3563)\n",
      "Updating files:  82% (2922/3563)\n",
      "Updating files:  83% (2958/3563)\n",
      "Updating files:  84% (2993/3563)\n",
      "Updating files:  85% (3029/3563)\n",
      "Updating files:  86% (3065/3563)\n",
      "Updating files:  87% (3100/3563)\n",
      "Updating files:  88% (3136/3563)\n",
      "Updating files:  89% (3172/3563)\n",
      "Updating files:  90% (3207/3563)\n",
      "Updating files:  91% (3243/3563)\n",
      "Updating files:  91% (3273/3563)\n",
      "Updating files:  92% (3278/3563)\n",
      "Updating files:  93% (3314/3563)\n",
      "Updating files:  94% (3350/3563)\n",
      "Updating files:  95% (3385/3563)\n",
      "Updating files:  96% (3421/3563)\n",
      "Updating files:  97% (3457/3563)\n",
      "Updating files:  98% (3492/3563)\n",
      "Updating files:  99% (3528/3563)\n",
      "Updating files: 100% (3563/3563)\n",
      "Updating files: 100% (3563/3563), done.\n"
     ]
    }
   ],
   "source": [
    "!cd Tensorflow && git clone https://github.com/tensorflow/models    "
   ]
  },
  {
   "cell_type": "code",
   "execution_count": 18,
   "metadata": {},
   "outputs": [
    {
     "name": "stdout",
     "output_type": "stream",
     "text": [
      "C:\\Users\\rajag\\miniconda3\\envs\\DeepLearning\\Spritle\\RealTimeObjectDetection\\Tensorflow\\models\\research\n"
     ]
    }
   ],
   "source": [
    "cd C:\\\\Users\\\\rajag\\\\miniconda3\\\\envs\\\\DeepLearning\\\\Spritle\\\\RealTimeObjectDetection\\\\Tensorflow\\\\models\\\\research"
   ]
  },
  {
   "cell_type": "code",
   "execution_count": 19,
   "metadata": {},
   "outputs": [],
   "source": [
    "!protoc object_detection/protos/*.proto --python_out=."
   ]
  },
  {
   "cell_type": "code",
   "execution_count": 22,
   "metadata": {},
   "outputs": [
    {
     "name": "stdout",
     "output_type": "stream",
     "text": [
      "        1 file(s) copied.\n",
      "Processing c:\\users\\rajag\\miniconda3\\envs\\deeplearning\\spritle\\realtimeobjectdetection\\tensorflow\\models\\research\n",
      "  Preparing metadata (setup.py): started\n",
      "  Preparing metadata (setup.py): finished with status 'done'\n",
      "Requirement already satisfied: avro-python3 in c:\\users\\rajag\\miniconda3\\envs\\deeplearning\\lib\\site-packages (from object-detection==0.1) (1.10.2)\n",
      "Requirement already satisfied: apache-beam in c:\\users\\rajag\\miniconda3\\envs\\deeplearning\\lib\\site-packages (from object-detection==0.1) (2.46.0)\n",
      "Requirement already satisfied: pillow in c:\\users\\rajag\\miniconda3\\envs\\deeplearning\\lib\\site-packages (from object-detection==0.1) (9.4.0)\n",
      "Requirement already satisfied: lxml in c:\\users\\rajag\\miniconda3\\envs\\deeplearning\\lib\\site-packages (from object-detection==0.1) (4.9.1)\n",
      "Requirement already satisfied: matplotlib in c:\\users\\rajag\\miniconda3\\envs\\deeplearning\\lib\\site-packages (from object-detection==0.1) (3.5.3)\n",
      "Requirement already satisfied: Cython in c:\\users\\rajag\\miniconda3\\envs\\deeplearning\\lib\\site-packages (from object-detection==0.1) (3.0.0)\n",
      "Requirement already satisfied: contextlib2 in c:\\users\\rajag\\miniconda3\\envs\\deeplearning\\lib\\site-packages (from object-detection==0.1) (21.6.0)\n",
      "Requirement already satisfied: tf-slim in c:\\users\\rajag\\miniconda3\\envs\\deeplearning\\lib\\site-packages (from object-detection==0.1) (1.1.0)\n",
      "Requirement already satisfied: six in c:\\users\\rajag\\miniconda3\\envs\\deeplearning\\lib\\site-packages (from object-detection==0.1) (1.16.0)\n",
      "Requirement already satisfied: pycocotools in c:\\users\\rajag\\miniconda3\\envs\\deeplearning\\lib\\site-packages (from object-detection==0.1) (2.0.6)\n",
      "Requirement already satisfied: lvis in c:\\users\\rajag\\miniconda3\\envs\\deeplearning\\lib\\site-packages (from object-detection==0.1) (0.5.3)\n",
      "Requirement already satisfied: scipy in c:\\users\\rajag\\miniconda3\\envs\\deeplearning\\lib\\site-packages (from object-detection==0.1) (1.7.3)\n",
      "Requirement already satisfied: pandas in c:\\users\\rajag\\miniconda3\\envs\\deeplearning\\lib\\site-packages (from object-detection==0.1) (1.3.5)\n",
      "Requirement already satisfied: tf-models-official>=2.5.1 in c:\\users\\rajag\\miniconda3\\envs\\deeplearning\\lib\\site-packages (from object-detection==0.1) (2.10.1)\n",
      "Requirement already satisfied: tensorflow_io in c:\\users\\rajag\\miniconda3\\envs\\deeplearning\\lib\\site-packages (from object-detection==0.1) (0.31.0)\n",
      "Requirement already satisfied: keras in c:\\users\\rajag\\miniconda3\\envs\\deeplearning\\lib\\site-packages (from object-detection==0.1) (2.10.0)\n",
      "Requirement already satisfied: pyparsing==2.4.7 in c:\\users\\rajag\\miniconda3\\envs\\deeplearning\\lib\\site-packages (from object-detection==0.1) (2.4.7)\n",
      "Requirement already satisfied: sacrebleu<=2.2.0 in c:\\users\\rajag\\miniconda3\\envs\\deeplearning\\lib\\site-packages (from object-detection==0.1) (2.2.0)\n",
      "Requirement already satisfied: colorama in c:\\users\\rajag\\miniconda3\\envs\\deeplearning\\lib\\site-packages (from sacrebleu<=2.2.0->object-detection==0.1) (0.4.6)\n",
      "Requirement already satisfied: numpy>=1.17 in c:\\users\\rajag\\miniconda3\\envs\\deeplearning\\lib\\site-packages (from sacrebleu<=2.2.0->object-detection==0.1) (1.21.5)\n",
      "Requirement already satisfied: portalocker in c:\\users\\rajag\\miniconda3\\envs\\deeplearning\\lib\\site-packages (from sacrebleu<=2.2.0->object-detection==0.1) (2.7.0)\n",
      "Requirement already satisfied: regex in c:\\users\\rajag\\miniconda3\\envs\\deeplearning\\lib\\site-packages (from sacrebleu<=2.2.0->object-detection==0.1) (2023.8.8)\n",
      "Requirement already satisfied: tabulate>=0.8.9 in c:\\users\\rajag\\miniconda3\\envs\\deeplearning\\lib\\site-packages (from sacrebleu<=2.2.0->object-detection==0.1) (0.9.0)\n",
      "Requirement already satisfied: oauth2client in c:\\users\\rajag\\miniconda3\\envs\\deeplearning\\lib\\site-packages (from tf-models-official>=2.5.1->object-detection==0.1) (4.1.3)\n",
      "Requirement already satisfied: tensorflow-datasets in c:\\users\\rajag\\miniconda3\\envs\\deeplearning\\lib\\site-packages (from tf-models-official>=2.5.1->object-detection==0.1) (4.8.2)\n",
      "Requirement already satisfied: immutabledict in c:\\users\\rajag\\miniconda3\\envs\\deeplearning\\lib\\site-packages (from tf-models-official>=2.5.1->object-detection==0.1) (2.2.5)\n",
      "Requirement already satisfied: pyyaml<6.0,>=5.1 in c:\\users\\rajag\\miniconda3\\envs\\deeplearning\\lib\\site-packages (from tf-models-official>=2.5.1->object-detection==0.1) (5.4.1)\n",
      "Requirement already satisfied: gin-config in c:\\users\\rajag\\miniconda3\\envs\\deeplearning\\lib\\site-packages (from tf-models-official>=2.5.1->object-detection==0.1) (0.5.0)\n",
      "Requirement already satisfied: tensorflow-text~=2.10.0 in c:\\users\\rajag\\miniconda3\\envs\\deeplearning\\lib\\site-packages (from tf-models-official>=2.5.1->object-detection==0.1) (2.10.0)\n",
      "Requirement already satisfied: tensorflow-addons in c:\\users\\rajag\\miniconda3\\envs\\deeplearning\\lib\\site-packages (from tf-models-official>=2.5.1->object-detection==0.1) (0.19.0)\n",
      "Requirement already satisfied: kaggle>=1.3.9 in c:\\users\\rajag\\miniconda3\\envs\\deeplearning\\lib\\site-packages (from tf-models-official>=2.5.1->object-detection==0.1) (1.5.16)\n",
      "Requirement already satisfied: google-api-python-client>=1.6.7 in c:\\users\\rajag\\miniconda3\\envs\\deeplearning\\lib\\site-packages (from tf-models-official>=2.5.1->object-detection==0.1) (2.96.0)\n",
      "Requirement already satisfied: psutil>=5.4.3 in c:\\users\\rajag\\miniconda3\\envs\\deeplearning\\lib\\site-packages (from tf-models-official>=2.5.1->object-detection==0.1) (5.9.0)\n",
      "Requirement already satisfied: py-cpuinfo>=3.3.0 in c:\\users\\rajag\\miniconda3\\envs\\deeplearning\\lib\\site-packages (from tf-models-official>=2.5.1->object-detection==0.1) (9.0.0)\n",
      "Requirement already satisfied: opencv-python-headless in c:\\users\\rajag\\miniconda3\\envs\\deeplearning\\lib\\site-packages (from tf-models-official>=2.5.1->object-detection==0.1) (4.8.0.74)\n",
      "Requirement already satisfied: sentencepiece in c:\\users\\rajag\\miniconda3\\envs\\deeplearning\\lib\\site-packages (from tf-models-official>=2.5.1->object-detection==0.1) (0.1.99)\n",
      "Requirement already satisfied: tensorflow~=2.10.0 in c:\\users\\rajag\\miniconda3\\envs\\deeplearning\\lib\\site-packages (from tf-models-official>=2.5.1->object-detection==0.1) (2.10.1)\n",
      "Requirement already satisfied: seqeval in c:\\users\\rajag\\miniconda3\\envs\\deeplearning\\lib\\site-packages (from tf-models-official>=2.5.1->object-detection==0.1) (1.2.2)\n",
      "Requirement already satisfied: tensorflow-model-optimization>=0.4.1 in c:\\users\\rajag\\miniconda3\\envs\\deeplearning\\lib\\site-packages (from tf-models-official>=2.5.1->object-detection==0.1) (0.7.3)\n",
      "Requirement already satisfied: tensorflow-hub>=0.6.0 in c:\\users\\rajag\\miniconda3\\envs\\deeplearning\\lib\\site-packages (from tf-models-official>=2.5.1->object-detection==0.1) (0.14.0)\n",
      "Requirement already satisfied: python-dateutil>=2.7.3 in c:\\users\\rajag\\miniconda3\\envs\\deeplearning\\lib\\site-packages (from pandas->object-detection==0.1) (2.8.2)\n",
      "Requirement already satisfied: pytz>=2017.3 in c:\\users\\rajag\\miniconda3\\envs\\deeplearning\\lib\\site-packages (from pandas->object-detection==0.1) (2022.7)\n",
      "Requirement already satisfied: absl-py>=0.2.2 in c:\\users\\rajag\\miniconda3\\envs\\deeplearning\\lib\\site-packages (from tf-slim->object-detection==0.1) (1.3.0)\n",
      "Requirement already satisfied: crcmod<2.0,>=1.7 in c:\\users\\rajag\\miniconda3\\envs\\deeplearning\\lib\\site-packages (from apache-beam->object-detection==0.1) (1.7)\n",
      "Requirement already satisfied: fasteners<1.0,>=0.3 in c:\\users\\rajag\\miniconda3\\envs\\deeplearning\\lib\\site-packages (from apache-beam->object-detection==0.1) (0.18)\n",
      "Requirement already satisfied: objsize<0.7.0,>=0.6.1 in c:\\users\\rajag\\miniconda3\\envs\\deeplearning\\lib\\site-packages (from apache-beam->object-detection==0.1) (0.6.1)\n",
      "Requirement already satisfied: proto-plus<2,>=1.7.1 in c:\\users\\rajag\\miniconda3\\envs\\deeplearning\\lib\\site-packages (from apache-beam->object-detection==0.1) (1.22.3)\n",
      "Requirement already satisfied: protobuf<4,>3.12.2 in c:\\users\\rajag\\miniconda3\\envs\\deeplearning\\lib\\site-packages (from apache-beam->object-detection==0.1) (3.19.6)\n",
      "Requirement already satisfied: requests<3.0.0,>=2.24.0 in c:\\users\\rajag\\miniconda3\\envs\\deeplearning\\lib\\site-packages (from apache-beam->object-detection==0.1) (2.28.1)\n",
      "Requirement already satisfied: orjson<4.0 in c:\\users\\rajag\\miniconda3\\envs\\deeplearning\\lib\\site-packages (from apache-beam->object-detection==0.1) (3.9.4)\n",
      "Requirement already satisfied: pydot<2,>=1.2.0 in c:\\users\\rajag\\miniconda3\\envs\\deeplearning\\lib\\site-packages (from apache-beam->object-detection==0.1) (1.4.2)\n",
      "Requirement already satisfied: pymongo<4.0.0,>=3.8.0 in c:\\users\\rajag\\miniconda3\\envs\\deeplearning\\lib\\site-packages (from apache-beam->object-detection==0.1) (3.13.0)\n",
      "Requirement already satisfied: zstandard<1,>=0.18.0 in c:\\users\\rajag\\miniconda3\\envs\\deeplearning\\lib\\site-packages (from apache-beam->object-detection==0.1) (0.21.0)\n",
      "Requirement already satisfied: fastavro<2,>=0.23.6 in c:\\users\\rajag\\miniconda3\\envs\\deeplearning\\lib\\site-packages (from apache-beam->object-detection==0.1) (1.8.0)\n",
      "Requirement already satisfied: hdfs<3.0.0,>=2.1.0 in c:\\users\\rajag\\miniconda3\\envs\\deeplearning\\lib\\site-packages (from apache-beam->object-detection==0.1) (2.7.1)\n",
      "Requirement already satisfied: typing-extensions>=3.7.0 in c:\\users\\rajag\\miniconda3\\envs\\deeplearning\\lib\\site-packages (from apache-beam->object-detection==0.1) (4.7.1)\n",
      "Requirement already satisfied: dill<0.3.2,>=0.3.1.1 in c:\\users\\rajag\\miniconda3\\envs\\deeplearning\\lib\\site-packages (from apache-beam->object-detection==0.1) (0.3.1.1)\n",
      "Requirement already satisfied: grpcio!=1.48.0,<2,>=1.33.1 in c:\\users\\rajag\\miniconda3\\envs\\deeplearning\\lib\\site-packages (from apache-beam->object-detection==0.1) (1.42.0)\n",
      "Requirement already satisfied: cloudpickle~=2.2.1 in c:\\users\\rajag\\miniconda3\\envs\\deeplearning\\lib\\site-packages (from apache-beam->object-detection==0.1) (2.2.1)\n",
      "Requirement already satisfied: pyarrow<10.0.0,>=3.0.0 in c:\\users\\rajag\\miniconda3\\envs\\deeplearning\\lib\\site-packages (from apache-beam->object-detection==0.1) (9.0.0)\n",
      "Requirement already satisfied: httplib2<0.22.0,>=0.8 in c:\\users\\rajag\\miniconda3\\envs\\deeplearning\\lib\\site-packages (from apache-beam->object-detection==0.1) (0.21.0)\n",
      "Requirement already satisfied: kiwisolver>=1.1.0 in c:\\users\\rajag\\miniconda3\\envs\\deeplearning\\lib\\site-packages (from lvis->object-detection==0.1) (1.4.4)\n",
      "Requirement already satisfied: opencv-python>=4.1.0.25 in c:\\users\\rajag\\miniconda3\\envs\\deeplearning\\lib\\site-packages (from lvis->object-detection==0.1) (4.8.0.74)\n",
      "Requirement already satisfied: cycler>=0.10.0 in c:\\users\\rajag\\miniconda3\\envs\\deeplearning\\lib\\site-packages (from lvis->object-detection==0.1) (0.11.0)\n",
      "Requirement already satisfied: fonttools>=4.22.0 in c:\\users\\rajag\\miniconda3\\envs\\deeplearning\\lib\\site-packages (from matplotlib->object-detection==0.1) (4.38.0)\n",
      "Requirement already satisfied: packaging>=20.0 in c:\\users\\rajag\\miniconda3\\envs\\deeplearning\\lib\\site-packages (from matplotlib->object-detection==0.1) (22.0)\n",
      "Requirement already satisfied: tensorflow-io-gcs-filesystem==0.31.0 in c:\\users\\rajag\\miniconda3\\envs\\deeplearning\\lib\\site-packages (from tensorflow_io->object-detection==0.1) (0.31.0)\n",
      "Requirement already satisfied: google-auth-httplib2>=0.1.0 in c:\\users\\rajag\\miniconda3\\envs\\deeplearning\\lib\\site-packages (from google-api-python-client>=1.6.7->tf-models-official>=2.5.1->object-detection==0.1) (0.1.0)\n",
      "Requirement already satisfied: google-auth<3.0.0.dev0,>=1.19.0 in c:\\users\\rajag\\miniconda3\\envs\\deeplearning\\lib\\site-packages (from google-api-python-client>=1.6.7->tf-models-official>=2.5.1->object-detection==0.1) (2.22.0)\n",
      "Requirement already satisfied: uritemplate<5,>=3.0.1 in c:\\users\\rajag\\miniconda3\\envs\\deeplearning\\lib\\site-packages (from google-api-python-client>=1.6.7->tf-models-official>=2.5.1->object-detection==0.1) (4.1.1)\n",
      "Requirement already satisfied: google-api-core!=2.0.*,!=2.1.*,!=2.2.*,!=2.3.0,<3.0.0.dev0,>=1.31.5 in c:\\users\\rajag\\miniconda3\\envs\\deeplearning\\lib\\site-packages (from google-api-python-client>=1.6.7->tf-models-official>=2.5.1->object-detection==0.1) (2.11.1)\n",
      "Requirement already satisfied: docopt in c:\\users\\rajag\\miniconda3\\envs\\deeplearning\\lib\\site-packages (from hdfs<3.0.0,>=2.1.0->apache-beam->object-detection==0.1) (0.6.2)\n",
      "Requirement already satisfied: bleach in c:\\users\\rajag\\miniconda3\\envs\\deeplearning\\lib\\site-packages (from kaggle>=1.3.9->tf-models-official>=2.5.1->object-detection==0.1) (4.1.0)\n",
      "Requirement already satisfied: urllib3 in c:\\users\\rajag\\miniconda3\\envs\\deeplearning\\lib\\site-packages (from kaggle>=1.3.9->tf-models-official>=2.5.1->object-detection==0.1) (1.26.14)\n",
      "Requirement already satisfied: certifi in c:\\users\\rajag\\miniconda3\\envs\\deeplearning\\lib\\site-packages (from kaggle>=1.3.9->tf-models-official>=2.5.1->object-detection==0.1) (2022.12.7)\n",
      "Requirement already satisfied: python-slugify in c:\\users\\rajag\\miniconda3\\envs\\deeplearning\\lib\\site-packages (from kaggle>=1.3.9->tf-models-official>=2.5.1->object-detection==0.1) (8.0.1)\n",
      "Requirement already satisfied: tqdm in c:\\users\\rajag\\miniconda3\\envs\\deeplearning\\lib\\site-packages (from kaggle>=1.3.9->tf-models-official>=2.5.1->object-detection==0.1) (4.65.2)\n",
      "Requirement already satisfied: idna<4,>=2.5 in c:\\users\\rajag\\miniconda3\\envs\\deeplearning\\lib\\site-packages (from requests<3.0.0,>=2.24.0->apache-beam->object-detection==0.1) (3.4)\n",
      "Requirement already satisfied: charset-normalizer<3,>=2 in c:\\users\\rajag\\miniconda3\\envs\\deeplearning\\lib\\site-packages (from requests<3.0.0,>=2.24.0->apache-beam->object-detection==0.1) (2.0.4)\n",
      "Requirement already satisfied: flatbuffers>=2.0 in c:\\users\\rajag\\miniconda3\\envs\\deeplearning\\lib\\site-packages (from tensorflow~=2.10.0->tf-models-official>=2.5.1->object-detection==0.1) (20210226132247)\n",
      "Requirement already satisfied: tensorboard<2.11,>=2.10 in c:\\users\\rajag\\miniconda3\\envs\\deeplearning\\lib\\site-packages (from tensorflow~=2.10.0->tf-models-official>=2.5.1->object-detection==0.1) (2.10.1)\n",
      "Requirement already satisfied: setuptools in c:\\users\\rajag\\miniconda3\\envs\\deeplearning\\lib\\site-packages (from tensorflow~=2.10.0->tf-models-official>=2.5.1->object-detection==0.1) (65.6.3)\n",
      "Requirement already satisfied: google-pasta>=0.1.1 in c:\\users\\rajag\\miniconda3\\envs\\deeplearning\\lib\\site-packages (from tensorflow~=2.10.0->tf-models-official>=2.5.1->object-detection==0.1) (0.2.0)\n",
      "Requirement already satisfied: termcolor>=1.1.0 in c:\\users\\rajag\\miniconda3\\envs\\deeplearning\\lib\\site-packages (from tensorflow~=2.10.0->tf-models-official>=2.5.1->object-detection==0.1) (2.1.0)\n",
      "Requirement already satisfied: tensorflow-estimator<2.11,>=2.10.0 in c:\\users\\rajag\\miniconda3\\envs\\deeplearning\\lib\\site-packages (from tensorflow~=2.10.0->tf-models-official>=2.5.1->object-detection==0.1) (2.10.0)\n",
      "Requirement already satisfied: gast<=0.4.0,>=0.2.1 in c:\\users\\rajag\\miniconda3\\envs\\deeplearning\\lib\\site-packages (from tensorflow~=2.10.0->tf-models-official>=2.5.1->object-detection==0.1) (0.4.0)\n",
      "Requirement already satisfied: keras-preprocessing>=1.1.1 in c:\\users\\rajag\\miniconda3\\envs\\deeplearning\\lib\\site-packages (from tensorflow~=2.10.0->tf-models-official>=2.5.1->object-detection==0.1) (1.1.2)\n",
      "Requirement already satisfied: wrapt>=1.11.0 in c:\\users\\rajag\\miniconda3\\envs\\deeplearning\\lib\\site-packages (from tensorflow~=2.10.0->tf-models-official>=2.5.1->object-detection==0.1) (1.14.1)\n",
      "Requirement already satisfied: astunparse>=1.6.0 in c:\\users\\rajag\\miniconda3\\envs\\deeplearning\\lib\\site-packages (from tensorflow~=2.10.0->tf-models-official>=2.5.1->object-detection==0.1) (1.6.3)\n",
      "Requirement already satisfied: libclang>=13.0.0 in c:\\users\\rajag\\miniconda3\\envs\\deeplearning\\lib\\site-packages (from tensorflow~=2.10.0->tf-models-official>=2.5.1->object-detection==0.1) (16.0.6)\n",
      "Requirement already satisfied: opt-einsum>=2.3.2 in c:\\users\\rajag\\miniconda3\\envs\\deeplearning\\lib\\site-packages (from tensorflow~=2.10.0->tf-models-official>=2.5.1->object-detection==0.1) (3.3.0)\n",
      "Requirement already satisfied: h5py>=2.9.0 in c:\\users\\rajag\\miniconda3\\envs\\deeplearning\\lib\\site-packages (from tensorflow~=2.10.0->tf-models-official>=2.5.1->object-detection==0.1) (3.7.0)\n",
      "Requirement already satisfied: dm-tree~=0.1.1 in c:\\users\\rajag\\miniconda3\\envs\\deeplearning\\lib\\site-packages (from tensorflow-model-optimization>=0.4.1->tf-models-official>=2.5.1->object-detection==0.1) (0.1.8)\n",
      "Requirement already satisfied: pyasn1>=0.1.7 in c:\\users\\rajag\\miniconda3\\envs\\deeplearning\\lib\\site-packages (from oauth2client->tf-models-official>=2.5.1->object-detection==0.1) (0.4.8)\n",
      "Requirement already satisfied: rsa>=3.1.4 in c:\\users\\rajag\\miniconda3\\envs\\deeplearning\\lib\\site-packages (from oauth2client->tf-models-official>=2.5.1->object-detection==0.1) (4.7.2)\n",
      "Requirement already satisfied: pyasn1-modules>=0.0.5 in c:\\users\\rajag\\miniconda3\\envs\\deeplearning\\lib\\site-packages (from oauth2client->tf-models-official>=2.5.1->object-detection==0.1) (0.2.8)\n",
      "Requirement already satisfied: pywin32>=226 in c:\\users\\rajag\\miniconda3\\envs\\deeplearning\\lib\\site-packages (from portalocker->sacrebleu<=2.2.0->object-detection==0.1) (305.1)\n",
      "Requirement already satisfied: scikit-learn>=0.21.3 in c:\\users\\rajag\\miniconda3\\envs\\deeplearning\\lib\\site-packages (from seqeval->tf-models-official>=2.5.1->object-detection==0.1) (1.0.2)\n",
      "Requirement already satisfied: typeguard>=2.7 in c:\\users\\rajag\\miniconda3\\envs\\deeplearning\\lib\\site-packages (from tensorflow-addons->tf-models-official>=2.5.1->object-detection==0.1) (4.1.0)\n",
      "Requirement already satisfied: promise in c:\\users\\rajag\\miniconda3\\envs\\deeplearning\\lib\\site-packages (from tensorflow-datasets->tf-models-official>=2.5.1->object-detection==0.1) (2.3)\n",
      "Requirement already satisfied: tensorflow-metadata in c:\\users\\rajag\\miniconda3\\envs\\deeplearning\\lib\\site-packages (from tensorflow-datasets->tf-models-official>=2.5.1->object-detection==0.1) (1.12.0)\n",
      "Requirement already satisfied: toml in c:\\users\\rajag\\miniconda3\\envs\\deeplearning\\lib\\site-packages (from tensorflow-datasets->tf-models-official>=2.5.1->object-detection==0.1) (0.10.2)\n",
      "Requirement already satisfied: importlib-resources in c:\\users\\rajag\\miniconda3\\envs\\deeplearning\\lib\\site-packages (from tensorflow-datasets->tf-models-official>=2.5.1->object-detection==0.1) (5.2.0)\n",
      "Requirement already satisfied: etils[enp,epath]>=0.9.0 in c:\\users\\rajag\\miniconda3\\envs\\deeplearning\\lib\\site-packages (from tensorflow-datasets->tf-models-official>=2.5.1->object-detection==0.1) (0.9.0)\n",
      "Requirement already satisfied: click in c:\\users\\rajag\\miniconda3\\envs\\deeplearning\\lib\\site-packages (from tensorflow-datasets->tf-models-official>=2.5.1->object-detection==0.1) (8.0.4)\n",
      "Requirement already satisfied: wheel<1.0,>=0.23.0 in c:\\users\\rajag\\miniconda3\\envs\\deeplearning\\lib\\site-packages (from astunparse>=1.6.0->tensorflow~=2.10.0->tf-models-official>=2.5.1->object-detection==0.1) (0.35.1)\n",
      "Requirement already satisfied: zipp in c:\\users\\rajag\\miniconda3\\envs\\deeplearning\\lib\\site-packages (from etils[enp,epath]>=0.9.0->tensorflow-datasets->tf-models-official>=2.5.1->object-detection==0.1) (3.11.0)\n",
      "Requirement already satisfied: googleapis-common-protos<2.0.dev0,>=1.56.2 in c:\\users\\rajag\\miniconda3\\envs\\deeplearning\\lib\\site-packages (from google-api-core!=2.0.*,!=2.1.*,!=2.2.*,!=2.3.0,<3.0.0.dev0,>=1.31.5->google-api-python-client>=1.6.7->tf-models-official>=2.5.1->object-detection==0.1) (1.60.0)\n",
      "Requirement already satisfied: cachetools<6.0,>=2.0.0 in c:\\users\\rajag\\miniconda3\\envs\\deeplearning\\lib\\site-packages (from google-auth<3.0.0.dev0,>=1.19.0->google-api-python-client>=1.6.7->tf-models-official>=2.5.1->object-detection==0.1) (4.2.2)\n",
      "Requirement already satisfied: threadpoolctl>=2.0.0 in c:\\users\\rajag\\miniconda3\\envs\\deeplearning\\lib\\site-packages (from scikit-learn>=0.21.3->seqeval->tf-models-official>=2.5.1->object-detection==0.1) (3.1.0)\n",
      "Requirement already satisfied: joblib>=0.11 in c:\\users\\rajag\\miniconda3\\envs\\deeplearning\\lib\\site-packages (from scikit-learn>=0.21.3->seqeval->tf-models-official>=2.5.1->object-detection==0.1) (1.3.1)\n",
      "Requirement already satisfied: tensorboard-data-server<0.7.0,>=0.6.0 in c:\\users\\rajag\\miniconda3\\envs\\deeplearning\\lib\\site-packages (from tensorboard<2.11,>=2.10->tensorflow~=2.10.0->tf-models-official>=2.5.1->object-detection==0.1) (0.6.1)\n",
      "Requirement already satisfied: markdown>=2.6.8 in c:\\users\\rajag\\miniconda3\\envs\\deeplearning\\lib\\site-packages (from tensorboard<2.11,>=2.10->tensorflow~=2.10.0->tf-models-official>=2.5.1->object-detection==0.1) (3.4.1)\n",
      "Requirement already satisfied: google-auth-oauthlib<0.5,>=0.4.1 in c:\\users\\rajag\\miniconda3\\envs\\deeplearning\\lib\\site-packages (from tensorboard<2.11,>=2.10->tensorflow~=2.10.0->tf-models-official>=2.5.1->object-detection==0.1) (0.4.1)\n",
      "Requirement already satisfied: werkzeug>=1.0.1 in c:\\users\\rajag\\miniconda3\\envs\\deeplearning\\lib\\site-packages (from tensorboard<2.11,>=2.10->tensorflow~=2.10.0->tf-models-official>=2.5.1->object-detection==0.1) (2.2.2)\n",
      "Requirement already satisfied: tensorboard-plugin-wit>=1.6.0 in c:\\users\\rajag\\miniconda3\\envs\\deeplearning\\lib\\site-packages (from tensorboard<2.11,>=2.10->tensorflow~=2.10.0->tf-models-official>=2.5.1->object-detection==0.1) (1.8.1)\n",
      "Requirement already satisfied: importlib-metadata>=3.6 in c:\\users\\rajag\\miniconda3\\envs\\deeplearning\\lib\\site-packages (from typeguard>=2.7->tensorflow-addons->tf-models-official>=2.5.1->object-detection==0.1) (4.11.3)\n",
      "Requirement already satisfied: webencodings in c:\\users\\rajag\\miniconda3\\envs\\deeplearning\\lib\\site-packages (from bleach->kaggle>=1.3.9->tf-models-official>=2.5.1->object-detection==0.1) (0.5.1)\n",
      "Requirement already satisfied: text-unidecode>=1.3 in c:\\users\\rajag\\miniconda3\\envs\\deeplearning\\lib\\site-packages (from python-slugify->kaggle>=1.3.9->tf-models-official>=2.5.1->object-detection==0.1) (1.3)\n",
      "Requirement already satisfied: requests-oauthlib>=0.7.0 in c:\\users\\rajag\\miniconda3\\envs\\deeplearning\\lib\\site-packages (from google-auth-oauthlib<0.5,>=0.4.1->tensorboard<2.11,>=2.10->tensorflow~=2.10.0->tf-models-official>=2.5.1->object-detection==0.1) (1.3.0)\n",
      "Requirement already satisfied: MarkupSafe>=2.1.1 in c:\\users\\rajag\\miniconda3\\envs\\deeplearning\\lib\\site-packages (from werkzeug>=1.0.1->tensorboard<2.11,>=2.10->tensorflow~=2.10.0->tf-models-official>=2.5.1->object-detection==0.1) (2.1.1)\n",
      "Requirement already satisfied: oauthlib>=3.0.0 in c:\\users\\rajag\\miniconda3\\envs\\deeplearning\\lib\\site-packages (from requests-oauthlib>=0.7.0->google-auth-oauthlib<0.5,>=0.4.1->tensorboard<2.11,>=2.10->tensorflow~=2.10.0->tf-models-official>=2.5.1->object-detection==0.1) (3.2.1)\n",
      "Building wheels for collected packages: object-detection\n",
      "  Building wheel for object-detection (setup.py): started\n",
      "  Building wheel for object-detection (setup.py): finished with status 'done'\n",
      "  Created wheel for object-detection: filename=object_detection-0.1-py3-none-any.whl size=1708723 sha256=be8141cc118e3529c272b45d2040eaee29e67799aa75f5f1980b8501b422e8d2\n",
      "  Stored in directory: C:\\Users\\rajag\\AppData\\Local\\Temp\\pip-ephem-wheel-cache-qkdfwfg6\\wheels\\fd\\79\\d6\\20a21902da892fa2d41f3eb9ae574addf7238421601227e0f1\n",
      "Successfully built object-detection\n",
      "Installing collected packages: object-detection\n",
      "  Attempting uninstall: object-detection\n",
      "    Found existing installation: object-detection 0.1\n",
      "    Uninstalling object-detection-0.1:\n",
      "      Successfully uninstalled object-detection-0.1\n",
      "Successfully installed object-detection-0.1\n"
     ]
    }
   ],
   "source": [
    "!copy object_detection\\\\packages\\\\tf2\\\\setup.py .\n",
    "!python -m pip install ."
   ]
  },
  {
   "cell_type": "code",
   "execution_count": null,
   "metadata": {},
   "outputs": [],
   "source": [
    "#wget.download('http://download.tensorflow.org/models/object_detection/tf2/20200711/ssd_mobilenet_v2_fpnlite_320x320_coco17_tpu-8.tar.gz')\n",
    "#!mv ssd_mobilenet_v2_fpnlite_320x320_coco17_tpu-8.tar.gz {PRETRAINED_MODEL_PATH}\n",
    "#!cd {PRETRAINED_MODEL_PATH} && tar -zxvf ssd_mobilenet_v2_fpnlite_320x320_coco17_tpu-8.tar.gz"
   ]
  },
  {
   "cell_type": "markdown",
   "metadata": {},
   "source": [
    "# 4. Copy Model Config to Training Folder"
   ]
  },
  {
   "cell_type": "code",
   "execution_count": null,
   "metadata": {},
   "outputs": [],
   "source": [
    "CUSTOM_MODEL_NAME = 'my_ssd_mobnet' "
   ]
  },
  {
   "cell_type": "code",
   "execution_count": null,
   "metadata": {},
   "outputs": [
    {
     "name": "stderr",
     "output_type": "stream",
     "text": [
      "A subdirectory or file Tensorflow\\workspace\\models\\my_ssd_mobnet already exists.\n"
     ]
    }
   ],
   "source": [
    "!mkdir {'Tensorflow\\workspace\\models\\\\'+CUSTOM_MODEL_NAME}\n",
    "!cp {PRETRAINED_MODEL_PATH+'/ssd_mobilenet_v2_fpnlite_320x320_coco17_tpu-8/pipeline.config'} {MODEL_PATH+'/'+CUSTOM_MODEL_NAME}"
   ]
  },
  {
   "cell_type": "markdown",
   "metadata": {},
   "source": [
    "# 5. Update Config For Transfer Learning"
   ]
  },
  {
   "cell_type": "code",
   "execution_count": null,
   "metadata": {},
   "outputs": [],
   "source": [
    "import tensorflow as tf\n",
    "from object_detection.utils import config_util\n",
    "from object_detection.protos import pipeline_pb2\n",
    "from google.protobuf import text_format"
   ]
  },
  {
   "cell_type": "code",
   "execution_count": null,
   "metadata": {},
   "outputs": [],
   "source": [
    "CONFIG_PATH = MODEL_PATH+'/'+CUSTOM_MODEL_NAME+'/pipeline.config'"
   ]
  },
  {
   "cell_type": "code",
   "execution_count": null,
   "metadata": {},
   "outputs": [],
   "source": [
    "config = config_util.get_configs_from_pipeline_file(CONFIG_PATH)"
   ]
  },
  {
   "cell_type": "code",
   "execution_count": null,
   "metadata": {
    "collapsed": true,
    "jupyter": {
     "outputs_hidden": true
    }
   },
   "outputs": [
    {
     "data": {
      "text/plain": [
       "{'model': ssd {\n",
       "   num_classes: 2\n",
       "   image_resizer {\n",
       "     fixed_shape_resizer {\n",
       "       height: 320\n",
       "       width: 320\n",
       "     }\n",
       "   }\n",
       "   feature_extractor {\n",
       "     type: \"ssd_mobilenet_v2_fpn_keras\"\n",
       "     depth_multiplier: 1.0\n",
       "     min_depth: 16\n",
       "     conv_hyperparams {\n",
       "       regularizer {\n",
       "         l2_regularizer {\n",
       "           weight: 4e-05\n",
       "         }\n",
       "       }\n",
       "       initializer {\n",
       "         random_normal_initializer {\n",
       "           mean: 0.0\n",
       "           stddev: 0.01\n",
       "         }\n",
       "       }\n",
       "       activation: RELU_6\n",
       "       batch_norm {\n",
       "         decay: 0.997\n",
       "         scale: true\n",
       "         epsilon: 0.001\n",
       "       }\n",
       "     }\n",
       "     use_depthwise: true\n",
       "     override_base_feature_extractor_hyperparams: true\n",
       "     fpn {\n",
       "       min_level: 3\n",
       "       max_level: 7\n",
       "       additional_layer_depth: 128\n",
       "     }\n",
       "   }\n",
       "   box_coder {\n",
       "     faster_rcnn_box_coder {\n",
       "       y_scale: 10.0\n",
       "       x_scale: 10.0\n",
       "       height_scale: 5.0\n",
       "       width_scale: 5.0\n",
       "     }\n",
       "   }\n",
       "   matcher {\n",
       "     argmax_matcher {\n",
       "       matched_threshold: 0.5\n",
       "       unmatched_threshold: 0.5\n",
       "       ignore_thresholds: false\n",
       "       negatives_lower_than_unmatched: true\n",
       "       force_match_for_each_row: true\n",
       "       use_matmul_gather: true\n",
       "     }\n",
       "   }\n",
       "   similarity_calculator {\n",
       "     iou_similarity {\n",
       "     }\n",
       "   }\n",
       "   box_predictor {\n",
       "     weight_shared_convolutional_box_predictor {\n",
       "       conv_hyperparams {\n",
       "         regularizer {\n",
       "           l2_regularizer {\n",
       "             weight: 4e-05\n",
       "           }\n",
       "         }\n",
       "         initializer {\n",
       "           random_normal_initializer {\n",
       "             mean: 0.0\n",
       "             stddev: 0.01\n",
       "           }\n",
       "         }\n",
       "         activation: RELU_6\n",
       "         batch_norm {\n",
       "           decay: 0.997\n",
       "           scale: true\n",
       "           epsilon: 0.001\n",
       "         }\n",
       "       }\n",
       "       depth: 128\n",
       "       num_layers_before_predictor: 4\n",
       "       kernel_size: 3\n",
       "       class_prediction_bias_init: -4.6\n",
       "       share_prediction_tower: true\n",
       "       use_depthwise: true\n",
       "     }\n",
       "   }\n",
       "   anchor_generator {\n",
       "     multiscale_anchor_generator {\n",
       "       min_level: 3\n",
       "       max_level: 7\n",
       "       anchor_scale: 4.0\n",
       "       aspect_ratios: 1.0\n",
       "       aspect_ratios: 2.0\n",
       "       aspect_ratios: 0.5\n",
       "       scales_per_octave: 2\n",
       "     }\n",
       "   }\n",
       "   post_processing {\n",
       "     batch_non_max_suppression {\n",
       "       score_threshold: 1e-08\n",
       "       iou_threshold: 0.6\n",
       "       max_detections_per_class: 100\n",
       "       max_total_detections: 100\n",
       "       use_static_shapes: false\n",
       "     }\n",
       "     score_converter: SIGMOID\n",
       "   }\n",
       "   normalize_loss_by_num_matches: true\n",
       "   loss {\n",
       "     localization_loss {\n",
       "       weighted_smooth_l1 {\n",
       "       }\n",
       "     }\n",
       "     classification_loss {\n",
       "       weighted_sigmoid_focal {\n",
       "         gamma: 2.0\n",
       "         alpha: 0.25\n",
       "       }\n",
       "     }\n",
       "     classification_weight: 1.0\n",
       "     localization_weight: 1.0\n",
       "   }\n",
       "   encode_background_as_zeros: true\n",
       "   normalize_loc_loss_by_codesize: true\n",
       "   inplace_batchnorm_update: true\n",
       "   freeze_batchnorm: false\n",
       " }, 'train_config': batch_size: 4\n",
       " data_augmentation_options {\n",
       "   random_horizontal_flip {\n",
       "   }\n",
       " }\n",
       " data_augmentation_options {\n",
       "   random_crop_image {\n",
       "     min_object_covered: 0.0\n",
       "     min_aspect_ratio: 0.75\n",
       "     max_aspect_ratio: 3.0\n",
       "     min_area: 0.75\n",
       "     max_area: 1.0\n",
       "     overlap_thresh: 0.0\n",
       "   }\n",
       " }\n",
       " sync_replicas: true\n",
       " optimizer {\n",
       "   momentum_optimizer {\n",
       "     learning_rate {\n",
       "       cosine_decay_learning_rate {\n",
       "         learning_rate_base: 0.08\n",
       "         total_steps: 50000\n",
       "         warmup_learning_rate: 0.026666\n",
       "         warmup_steps: 1000\n",
       "       }\n",
       "     }\n",
       "     momentum_optimizer_value: 0.9\n",
       "   }\n",
       "   use_moving_average: false\n",
       " }\n",
       " fine_tune_checkpoint: \"Tensorflow/workspace/pre-trained-models/ssd_mobilenet_v2_fpnlite_320x320_coco17_tpu-8/checkpoint/ckpt-0\"\n",
       " num_steps: 50000\n",
       " startup_delay_steps: 0.0\n",
       " replicas_to_aggregate: 8\n",
       " max_number_of_boxes: 100\n",
       " unpad_groundtruth_tensors: false\n",
       " fine_tune_checkpoint_type: \"detection\"\n",
       " fine_tune_checkpoint_version: V2, 'train_input_config': label_map_path: \"Tensorflow/workspace/annotations/label_map.pbtxt\"\n",
       " tf_record_input_reader {\n",
       "   input_path: \"Tensorflow/workspace/annotations/train.record\"\n",
       " }, 'eval_config': metrics_set: \"coco_detection_metrics\"\n",
       " use_moving_averages: false, 'eval_input_configs': [label_map_path: \"Tensorflow/workspace/annotations/label_map.pbtxt\"\n",
       " shuffle: false\n",
       " num_epochs: 1\n",
       " tf_record_input_reader {\n",
       "   input_path: \"Tensorflow/workspace/annotations/test.record\"\n",
       " }\n",
       " ], 'eval_input_config': label_map_path: \"Tensorflow/workspace/annotations/label_map.pbtxt\"\n",
       " shuffle: false\n",
       " num_epochs: 1\n",
       " tf_record_input_reader {\n",
       "   input_path: \"Tensorflow/workspace/annotations/test.record\"\n",
       " }}"
      ]
     },
     "execution_count": 56,
     "metadata": {},
     "output_type": "execute_result"
    }
   ],
   "source": [
    "config"
   ]
  },
  {
   "cell_type": "code",
   "execution_count": null,
   "metadata": {},
   "outputs": [],
   "source": [
    "pipeline_config = pipeline_pb2.TrainEvalPipelineConfig()\n",
    "with tf.io.gfile.GFile(CONFIG_PATH, \"r\") as f:                                                                                                                                                                                                                     \n",
    "    proto_str = f.read()                                                                                                                                                                                                                                          \n",
    "    text_format.Merge(proto_str, pipeline_config)  "
   ]
  },
  {
   "cell_type": "code",
   "execution_count": null,
   "metadata": {},
   "outputs": [],
   "source": [
    "pipeline_config.model.ssd.num_classes = 2\n",
    "pipeline_config.train_config.batch_size = 4\n",
    "pipeline_config.train_config.fine_tune_checkpoint = PRETRAINED_MODEL_PATH+'/ssd_mobilenet_v2_fpnlite_320x320_coco17_tpu-8/checkpoint/ckpt-0'\n",
    "pipeline_config.train_config.fine_tune_checkpoint_type = \"detection\"\n",
    "pipeline_config.train_input_reader.label_map_path= ANNOTATION_PATH + '/label_map.pbtxt'\n",
    "pipeline_config.train_input_reader.tf_record_input_reader.input_path[:] = [ANNOTATION_PATH + '/train.record']\n",
    "pipeline_config.eval_input_reader[0].label_map_path = ANNOTATION_PATH + '/label_map.pbtxt'\n",
    "pipeline_config.eval_input_reader[0].tf_record_input_reader.input_path[:] = [ANNOTATION_PATH + '/test.record']"
   ]
  },
  {
   "cell_type": "code",
   "execution_count": null,
   "metadata": {},
   "outputs": [],
   "source": [
    "config_text = text_format.MessageToString(pipeline_config)                                                                                                                                                                                                        \n",
    "with tf.io.gfile.GFile(CONFIG_PATH, \"wb\") as f:                                                                                                                                                                                                                     \n",
    "    f.write(config_text)   "
   ]
  },
  {
   "cell_type": "markdown",
   "metadata": {},
   "source": [
    "# 6. Train the model"
   ]
  },
  {
   "cell_type": "code",
   "execution_count": null,
   "metadata": {},
   "outputs": [
    {
     "ename": "NameError",
     "evalue": "name 'APIMODEL_PATH' is not defined",
     "output_type": "error",
     "traceback": [
      "\u001b[1;31m---------------------------------------------------------------------------\u001b[0m",
      "\u001b[1;31mNameError\u001b[0m                                 Traceback (most recent call last)",
      "\u001b[1;32m~\\AppData\\Local\\Temp\\ipykernel_6460\\3682595142.py\u001b[0m in \u001b[0;36m<module>\u001b[1;34m\u001b[0m\n\u001b[1;32m----> 1\u001b[1;33m \u001b[0mprint\u001b[0m\u001b[1;33m(\u001b[0m\u001b[1;34m\"\"\"python {}/research/object_detection/model_main_tf2.py --model_dir={}/{} --pipeline_config_path={}/{}/pipeline.config --num_train_steps=5000\"\"\"\u001b[0m\u001b[1;33m.\u001b[0m\u001b[0mformat\u001b[0m\u001b[1;33m(\u001b[0m\u001b[0mAPIMODEL_PATH\u001b[0m\u001b[1;33m,\u001b[0m \u001b[0mMODEL_PATH\u001b[0m\u001b[1;33m,\u001b[0m\u001b[0mCUSTOM_MODEL_NAME\u001b[0m\u001b[1;33m,\u001b[0m\u001b[0mMODEL_PATH\u001b[0m\u001b[1;33m,\u001b[0m\u001b[0mCUSTOM_MODEL_NAME\u001b[0m\u001b[1;33m)\u001b[0m\u001b[1;33m)\u001b[0m\u001b[1;33m\u001b[0m\u001b[1;33m\u001b[0m\u001b[0m\n\u001b[0m",
      "\u001b[1;31mNameError\u001b[0m: name 'APIMODEL_PATH' is not defined"
     ]
    }
   ],
   "source": [
    "print(\"\"\"python {}/research/object_detection/model_main_tf2.py --model_dir={}/{} --pipeline_config_path={}/{}/pipeline.config --num_train_steps=5000\"\"\".format(APIMODEL_PATH, MODEL_PATH,CUSTOM_MODEL_NAME,MODEL_PATH,CUSTOM_MODEL_NAME))"
   ]
  },
  {
   "cell_type": "markdown",
   "metadata": {},
   "source": [
    "# 7. Load Train Model From Checkpoint"
   ]
  },
  {
   "cell_type": "code",
   "execution_count": 1,
   "metadata": {},
   "outputs": [
    {
     "name": "stdout",
     "output_type": "stream",
     "text": [
      "c:\\Users\\rajag\\miniconda3\\envs\\DeepLearning\\Spritle\\RealTimeObjectDetection\\Tensorflow\\models\\research\n"
     ]
    }
   ],
   "source": [
    "cd Tensorflow/models/research"
   ]
  },
  {
   "cell_type": "code",
   "execution_count": 2,
   "metadata": {},
   "outputs": [],
   "source": [
    "import os\n",
    "from object_detection.utils import label_map_util\n",
    "from object_detection.utils import visualization_utils as viz_utils\n",
    "from object_detection.builders import model_builder\n",
    "\n",
    "\n",
    "import tensorflow as tf\n",
    "from object_detection.utils import config_util\n",
    "from object_detection.protos import pipeline_pb2\n",
    "from google.protobuf import text_format"
   ]
  },
  {
   "cell_type": "code",
   "execution_count": 3,
   "metadata": {},
   "outputs": [],
   "source": [
    "CUSTOM_MODEL_NAME = 'my_ssd_mobnet' \n",
    "WORKSPACE_PATH = 'Tensorflow/workspace'\n",
    "SCRIPTS_PATH = 'Tensorflow/scripts'\n",
    "APIMODEL_PATH = 'Tensorflow/models'\n",
    "ANNOTATION_PATH = WORKSPACE_PATH+'/annotations'\n",
    "IMAGE_PATH = WORKSPACE_PATH+'/images'\n",
    "MODEL_PATH = WORKSPACE_PATH+'/models'\n",
    "PRETRAINED_MODEL_PATH = WORKSPACE_PATH+'/pre-trained-models'\n",
    "CONFIG_PATH = MODEL_PATH+'/my_ssd_mobnet/pipeline.config'\n",
    "CHECKPOINT_PATH = MODEL_PATH+'/my_ssd_mobnet/'\n",
    "CONFIG_PATH = MODEL_PATH+'/'+CUSTOM_MODEL_NAME+'/pipeline.config'"
   ]
  },
  {
   "cell_type": "code",
   "execution_count": 4,
   "metadata": {},
   "outputs": [
    {
     "data": {
      "text/plain": [
       "'Tensorflow/workspace/models/my_ssd_mobnet/pipeline.config'"
      ]
     },
     "execution_count": 4,
     "metadata": {},
     "output_type": "execute_result"
    }
   ],
   "source": [
    "CONFIG_PATH"
   ]
  },
  {
   "cell_type": "code",
   "execution_count": 9,
   "metadata": {},
   "outputs": [
    {
     "name": "stdout",
     "output_type": "stream",
     "text": [
      "C:\\Users\\rajag\\miniconda3\\envs\\DeepLearning\\Spritle\\RealTimeObjectDetection\n"
     ]
    }
   ],
   "source": [
    "cd C:\\Users\\rajag\\miniconda3\\envs\\DeepLearning\\Spritle\\RealTimeObjectDetection"
   ]
  },
  {
   "cell_type": "code",
   "execution_count": 6,
   "metadata": {},
   "outputs": [],
   "source": [
    "# Load pipeline config and build a detection model\n",
    "configs = config_util.get_configs_from_pipeline_file(CONFIG_PATH)\n",
    "detection_model = model_builder.build(model_config=configs['model'], is_training=False)\n",
    "\n",
    "# Restore checkpoint\n",
    "ckpt = tf.compat.v2.train.Checkpoint(model=detection_model)\n",
    "ckpt.restore(os.path.join(CHECKPOINT_PATH, 'ckpt-6')).expect_partial()\n",
    "\n",
    "@tf.function\n",
    "def detect_fn(image):\n",
    "    image, shapes = detection_model.preprocess(image)\n",
    "    prediction_dict = detection_model.predict(image, shapes)\n",
    "    detections = detection_model.postprocess(prediction_dict, shapes)\n",
    "    return detections"
   ]
  },
  {
   "cell_type": "markdown",
   "metadata": {},
   "source": [
    "# 8. Detect in Real-Time"
   ]
  },
  {
   "cell_type": "code",
   "execution_count": 7,
   "metadata": {},
   "outputs": [],
   "source": [
    "import cv2 \n",
    "import numpy as np"
   ]
  },
  {
   "cell_type": "code",
   "execution_count": 8,
   "metadata": {},
   "outputs": [],
   "source": [
    "category_index = label_map_util.create_category_index_from_labelmap(ANNOTATION_PATH+'/label_map.pbtxt')"
   ]
  },
  {
   "cell_type": "code",
   "execution_count": 9,
   "metadata": {},
   "outputs": [],
   "source": [
    "# Setup capture\n",
    "cap = cv2.VideoCapture(0)\n",
    "width = int(cap.get(cv2.CAP_PROP_FRAME_WIDTH))\n",
    "height = int(cap.get(cv2.CAP_PROP_FRAME_HEIGHT))"
   ]
  },
  {
   "cell_type": "code",
   "execution_count": 10,
   "metadata": {},
   "outputs": [
    {
     "ename": "KeyboardInterrupt",
     "evalue": "",
     "output_type": "error",
     "traceback": [
      "\u001b[1;31m---------------------------------------------------------------------------\u001b[0m",
      "\u001b[1;31mKeyboardInterrupt\u001b[0m                         Traceback (most recent call last)",
      "\u001b[1;32m~\\AppData\\Local\\Temp\\ipykernel_2728\\3237149198.py\u001b[0m in \u001b[0;36m<module>\u001b[1;34m\u001b[0m\n\u001b[0;32m      1\u001b[0m \u001b[1;32mwhile\u001b[0m \u001b[1;32mTrue\u001b[0m\u001b[1;33m:\u001b[0m\u001b[1;33m\u001b[0m\u001b[1;33m\u001b[0m\u001b[0m\n\u001b[1;32m----> 2\u001b[1;33m     \u001b[0mret\u001b[0m\u001b[1;33m,\u001b[0m \u001b[0mframe\u001b[0m \u001b[1;33m=\u001b[0m \u001b[0mcap\u001b[0m\u001b[1;33m.\u001b[0m\u001b[0mread\u001b[0m\u001b[1;33m(\u001b[0m\u001b[1;33m)\u001b[0m\u001b[1;33m\u001b[0m\u001b[1;33m\u001b[0m\u001b[0m\n\u001b[0m\u001b[0;32m      3\u001b[0m     \u001b[0mimage_np\u001b[0m \u001b[1;33m=\u001b[0m \u001b[0mnp\u001b[0m\u001b[1;33m.\u001b[0m\u001b[0marray\u001b[0m\u001b[1;33m(\u001b[0m\u001b[0mframe\u001b[0m\u001b[1;33m)\u001b[0m\u001b[1;33m\u001b[0m\u001b[1;33m\u001b[0m\u001b[0m\n\u001b[0;32m      4\u001b[0m \u001b[1;33m\u001b[0m\u001b[0m\n\u001b[0;32m      5\u001b[0m     \u001b[0minput_tensor\u001b[0m \u001b[1;33m=\u001b[0m \u001b[0mtf\u001b[0m\u001b[1;33m.\u001b[0m\u001b[0mconvert_to_tensor\u001b[0m\u001b[1;33m(\u001b[0m\u001b[0mnp\u001b[0m\u001b[1;33m.\u001b[0m\u001b[0mexpand_dims\u001b[0m\u001b[1;33m(\u001b[0m\u001b[0mimage_np\u001b[0m\u001b[1;33m,\u001b[0m \u001b[1;36m0\u001b[0m\u001b[1;33m)\u001b[0m\u001b[1;33m,\u001b[0m \u001b[0mdtype\u001b[0m\u001b[1;33m=\u001b[0m\u001b[0mtf\u001b[0m\u001b[1;33m.\u001b[0m\u001b[0mfloat32\u001b[0m\u001b[1;33m)\u001b[0m\u001b[1;33m\u001b[0m\u001b[1;33m\u001b[0m\u001b[0m\n",
      "\u001b[1;31mKeyboardInterrupt\u001b[0m: "
     ]
    },
    {
     "ename": "",
     "evalue": "",
     "output_type": "error",
     "traceback": [
      "\u001b[1;31mThe Kernel crashed while executing code in the the current cell or a previous cell. Please review the code in the cell(s) to identify a possible cause of the failure. Click <a href='https://aka.ms/vscodeJupyterKernelCrash'>here</a> for more info. View Jupyter <a href='command:jupyter.viewOutput'>log</a> for further details."
     ]
    }
   ],
   "source": [
    "while True: \n",
    "    ret, frame = cap.read()\n",
    "    image_np = np.array(frame)\n",
    "    \n",
    "    input_tensor = tf.convert_to_tensor(np.expand_dims(image_np, 0), dtype=tf.float32)\n",
    "    detections = detect_fn(input_tensor)\n",
    "    \n",
    "    num_detections = int(detections.pop('num_detections'))\n",
    "    detections = {key: value[0, :num_detections].numpy()\n",
    "                  for key, value in detections.items()}\n",
    "    detections['num_detections'] = num_detections\n",
    "\n",
    "    # detection_classes should be ints.\n",
    "    detections['detection_classes'] = detections['detection_classes'].astype(np.int64)\n",
    "\n",
    "    label_id_offset = 1\n",
    "    image_np_with_detections = image_np.copy()\n",
    "\n",
    "    viz_utils.visualize_boxes_and_labels_on_image_array(\n",
    "                image_np_with_detections,\n",
    "                detections['detection_boxes'],\n",
    "                detections['detection_classes']+label_id_offset,\n",
    "                detections['detection_scores'],\n",
    "                category_index,\n",
    "                use_normalized_coordinates=True,\n",
    "                max_boxes_to_draw=5,\n",
    "                min_score_thresh=.5,\n",
    "                agnostic_mode=False)\n",
    "\n",
    "    cv2.imshow('object detection',  cv2.resize(image_np_with_detections, (800, 600)))\n",
    "    \n",
    "    if cv2.waitKey(1) & 0xFF == ord('q'):\n",
    "        cap.release()\n",
    "        break"
   ]
  }
 ],
 "metadata": {
  "kernelspec": {
   "display_name": "DeepLearning",
   "language": "python",
   "name": "python3"
  },
  "language_info": {
   "codemirror_mode": {
    "name": "ipython",
    "version": 3
   },
   "file_extension": ".py",
   "mimetype": "text/x-python",
   "name": "python",
   "nbconvert_exporter": "python",
   "pygments_lexer": "ipython3",
   "version": "3.7.16"
  }
 },
 "nbformat": 4,
 "nbformat_minor": 4
}
